{
 "cells": [
  {
   "cell_type": "code",
   "execution_count": 1,
   "metadata": {},
   "outputs": [],
   "source": [
    "import pandas as pd"
   ]
  },
  {
   "cell_type": "code",
   "execution_count": 2,
   "metadata": {},
   "outputs": [],
   "source": [
    "data = pd.read_csv('politifact.csv', index_col=0)"
   ]
  },
  {
   "cell_type": "code",
   "execution_count": 3,
   "metadata": {},
   "outputs": [
    {
     "name": "stdout",
     "output_type": "stream",
     "text": [
      "(17636, 4)\n"
     ]
    },
    {
     "data": {
      "text/html": [
       "<div>\n",
       "<style scoped>\n",
       "    .dataframe tbody tr th:only-of-type {\n",
       "        vertical-align: middle;\n",
       "    }\n",
       "\n",
       "    .dataframe tbody tr th {\n",
       "        vertical-align: top;\n",
       "    }\n",
       "\n",
       "    .dataframe thead th {\n",
       "        text-align: right;\n",
       "    }\n",
       "</style>\n",
       "<table border=\"1\" class=\"dataframe\">\n",
       "  <thead>\n",
       "    <tr style=\"text-align: right;\">\n",
       "      <th></th>\n",
       "      <th>ruling</th>\n",
       "      <th>name</th>\n",
       "      <th>quote</th>\n",
       "      <th>description</th>\n",
       "      <th>date</th>\n",
       "    </tr>\n",
       "  </thead>\n",
       "  <tbody>\n",
       "    <tr>\n",
       "      <th>0</th>\n",
       "      <td>true</td>\n",
       "      <td>Robert Ortt</td>\n",
       "      <td>If New York’s proposed limits on natural gas i...</td>\n",
       "      <td></td>\n",
       "      <td>January 20, 2023</td>\n",
       "    </tr>\n",
       "    <tr>\n",
       "      <th>1</th>\n",
       "      <td>true</td>\n",
       "      <td>Tony Evers</td>\n",
       "      <td>“Wisconsin is the nation’s top cranberry produ...</td>\n",
       "      <td>Twitter</td>\n",
       "      <td>December 28, 2022</td>\n",
       "    </tr>\n",
       "    <tr>\n",
       "      <th>2</th>\n",
       "      <td>true</td>\n",
       "      <td>Morgan Luttrell</td>\n",
       "      <td>\"Biden drained America's Strategic Petroleum R...</td>\n",
       "      <td>a tweet</td>\n",
       "      <td>January 10, 2023</td>\n",
       "    </tr>\n",
       "    <tr>\n",
       "      <th>3</th>\n",
       "      <td>true</td>\n",
       "      <td>Melissa Agard</td>\n",
       "      <td>\"Historically, our spring elections (including...</td>\n",
       "      <td>TV interview</td>\n",
       "      <td>January 3, 2023</td>\n",
       "    </tr>\n",
       "    <tr>\n",
       "      <th>4</th>\n",
       "      <td>true</td>\n",
       "      <td>Tammy Baldwin</td>\n",
       "      <td>\"Latina workers make 54 cents for every dollar...</td>\n",
       "      <td>Twitter</td>\n",
       "      <td>December 8, 2022</td>\n",
       "    </tr>\n",
       "  </tbody>\n",
       "</table>\n",
       "</div>"
      ],
      "text/plain": [
       "  ruling             name                                              quote  \\\n",
       "0   true      Robert Ortt  If New York’s proposed limits on natural gas i...   \n",
       "1   true       Tony Evers  “Wisconsin is the nation’s top cranberry produ...   \n",
       "2   true  Morgan Luttrell  \"Biden drained America's Strategic Petroleum R...   \n",
       "3   true    Melissa Agard  \"Historically, our spring elections (including...   \n",
       "4   true    Tammy Baldwin  \"Latina workers make 54 cents for every dollar...   \n",
       "\n",
       "     description                date  \n",
       "0                  January 20, 2023   \n",
       "1        Twitter  December 28, 2022   \n",
       "2        a tweet   January 10, 2023   \n",
       "3   TV interview    January 3, 2023   \n",
       "4        Twitter   December 8, 2022   "
      ]
     },
     "execution_count": 3,
     "metadata": {},
     "output_type": "execute_result"
    }
   ],
   "source": [
    "print(data.shape)\n",
    "raw_date = data['description'].str.split(r'\\bin\\b', expand=True)[0]\n",
    "raw_desc = data['description'].str.split(r'\\bin\\b', expand=True)[1]\n",
    "data['date'] = raw_date.str.split(\"stated on \", expand=True)[1]\n",
    "data['description'] = raw_desc.str.split(\":\", expand=True)[0]\n",
    "\n",
    "data.head()\n",
    "data.head()"
   ]
  },
  {
   "cell_type": "code",
   "execution_count": 4,
   "metadata": {},
   "outputs": [
    {
     "name": "stdout",
     "output_type": "stream",
     "text": [
      "Before binning: name\n",
      "Facebook posts       2167\n",
      "Instagram posts       903\n",
      "Viral image           878\n",
      "Donald Trump          717\n",
      "Bloggers              524\n",
      "                     ... \n",
      "Mark Clayton            1\n",
      "BillHislam.com          1\n",
      "Hank Williams Jr.       1\n",
      "Menendez Facts          1\n",
      "BuzzFeed                1\n",
      "Name: count, Length: 3760, dtype: int64\n",
      "After binning: name\n",
      "Other              4704\n",
      "Facebook posts     2167\n",
      "Instagram posts     903\n",
      "Viral image         878\n",
      "Donald Trump        717\n",
      "                   ... \n",
      "Jesse Watters         5\n",
      "Bill Pascrell         5\n",
      "Mehmet Oz             5\n",
      "Jack Posobiec         5\n",
      "The Other 98%         5\n",
      "Name: count, Length: 458, dtype: int64\n"
     ]
    }
   ],
   "source": [
    "name_counts = data['name'].value_counts()\n",
    "print(\"Before binning:\",name_counts)\n",
    "names_to_keep = name_counts[name_counts >= 5].index\n",
    "data['name'] = data['name'].apply(lambda x: x if x in names_to_keep else 'Other')\n",
    "name_counts = data['name'].value_counts()\n",
    "print(\"After binning:\",name_counts)\n"
   ]
  },
  {
   "cell_type": "code",
   "execution_count": 5,
   "metadata": {},
   "outputs": [
    {
     "name": "stdout",
     "output_type": "stream",
     "text": [
      "Before binning: description\n",
      "a Facebook post                                                  2028\n",
      "a tweet                                                           899\n",
      "an Instagram post                                                 864\n",
      "an interview                                                      361\n",
      "a speech                                                          351\n",
      "                                                                 ... \n",
      "a Democratic gubernatorial debate                                   1\n",
      "a New York Times news story                                         1\n",
      "an online survey                                                    1\n",
      "a speech at an Americans for Prosperity Foundation conference       1\n",
      "legislative remarks                                                 1\n",
      "Name: count, Length: 4160, dtype: int64\n",
      "After binning: description\n",
      "Other                          4864\n",
      " a Facebook post               2028\n",
      " a tweet                        899\n",
      " an Instagram post              864\n",
      " an interview                   361\n",
      "                               ... \n",
      " a town hall meeting              5\n",
      " a message via the Internet       5\n",
      " a robocall                       5\n",
      " a billboard                      5\n",
      " an op-ed.                        5\n",
      "Name: count, Length: 351, dtype: int64\n"
     ]
    }
   ],
   "source": [
    "description_counts = data['description'].value_counts()\n",
    "print(\"Before binning:\",description_counts)\n",
    "descriptions_to_keep = description_counts[description_counts >= 5].index\n",
    "data['description'] = data['description'].apply(lambda x: x if x in descriptions_to_keep else 'Other')\n",
    "description_counts = data['description'].value_counts()\n",
    "print(\"After binning:\",description_counts)"
   ]
  }
 ],
 "metadata": {
  "kernelspec": {
   "display_name": "news",
   "language": "python",
   "name": "python3"
  },
  "language_info": {
   "codemirror_mode": {
    "name": "ipython",
    "version": 3
   },
   "file_extension": ".py",
   "mimetype": "text/x-python",
   "name": "python",
   "nbconvert_exporter": "python",
   "pygments_lexer": "ipython3",
   "version": "3.12.7"
  }
 },
 "nbformat": 4,
 "nbformat_minor": 2
}
